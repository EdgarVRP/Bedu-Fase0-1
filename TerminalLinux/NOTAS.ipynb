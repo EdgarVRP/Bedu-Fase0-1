{
 "cells": [
  {
   "cell_type": "markdown",
   "metadata": {},
   "source": [
    "Terminal con linux\n",
    "Creando directorio\n",
    "\n",
    "cd C:/Users/Edgar/Documents/GitHub/Bedu-Fase0-1/TerminalLinux/\n",
    "mkdir $(date +\"%d-%m-%Y\")\n",
    "\n",
    "curl -O https://datos.cdmx.gob.mx/dataset/9c45ead6-9016-469a-b6ba-41e3660590cb/resource/c97a1898-5343-4b01-8d76-9f74e5bOd072/download/capacidad_hospitalaria_micrositio.csv\n"
   ]
  },
  {
   "cell_type": "markdown",
   "metadata": {},
   "source": [
    "\n",
    "Comandos para manipular carpetas y archivos\n",
    "Para conocer la carpeta en la que me encuentro:\n",
    "pwd\n",
    "\n",
    "Para conocer archivos dentro de la carpeta\n",
    "ls\n",
    "\n",
    "Conocer perimisos y usuarios\n",
    "ls -l\n",
    "\n",
    "Creando directorio:\n",
    "mkdir TerminalLinux\n",
    "\n",
    "Para cambiar de carpeta\n",
    "cd TerminalLinux\n",
    "\n",
    "Creando 2 carpetas\n",
    "mkdir Proyecto1 Proyecto2\n",
    "\n",
    "Crando carpetas y Subcarpetas\n",
    "mkdir -p Proyecto3/Doc\n",
    "\n",
    "Eliminando carpeta\n",
    "rmdir Proyecto2\n",
    "\n",
    "Borrando carpetas NO vacias\n",
    "rm -r Proyecto3\n",
    "\n",
    "Regresando a carpeta anterior\n",
    "cd .."
   ]
  },
  {
   "cell_type": "markdown",
   "metadata": {},
   "source": [
    "mkdir Ejemplos\n",
    "cd Ejemplos\n",
    "touch datos.txt\n",
    "ls -l\n",
    "echo Primera línea de texto\n",
    "\n",
    "Guardar Texto en archivo:\n",
    "echo Primera línea de texto > datos.txt\n",
    "\n",
    "Leer archivo en terminal\n",
    "cat datos.txt\n",
    "\n",
    "Agregando mas lineas y mostrando lo guardado\n",
    "echo Segunda línea de texto >> datos.txt\n",
    "echo Tercera línea de texto >> datos.txt\n",
    "cat datos.txt\n",
    "\n",
    "Haciendo copia de archivo\n",
    "cp datos.txt datos.1.txt\n",
    "\n",
    "Renombrando un archivo:\n",
    "cp datos.txt datos.1 #Una copia erronea\n",
    "mv datos.1 datos.2.txt\n",
    "\n",
    "\n"
   ]
  },
  {
   "cell_type": "markdown",
   "metadata": {},
   "source": [
    "Ejemplo Microlearning 1\n",
    "\n",
    "Obteniendo ruta actual"
   ]
  },
  {
   "cell_type": "code",
   "execution_count": null,
   "metadata": {
    "vscode": {
     "languageId": "plaintext"
    }
   },
   "outputs": [],
   "source": [
    "pwd"
   ]
  },
  {
   "cell_type": "markdown",
   "metadata": {},
   "source": [
    "Obteniendo lista de elementos de la carpeta actual"
   ]
  },
  {
   "cell_type": "code",
   "execution_count": null,
   "metadata": {
    "vscode": {
     "languageId": "plaintext"
    }
   },
   "outputs": [],
   "source": [
    "ls"
   ]
  },
  {
   "cell_type": "markdown",
   "metadata": {},
   "source": [
    "Al añadir -l al comando ls se mostrará permisos, usuario y grupo propietarios, tamaño, fecha y nombre."
   ]
  },
  {
   "cell_type": "code",
   "execution_count": null,
   "metadata": {
    "vscode": {
     "languageId": "plaintext"
    }
   },
   "outputs": [],
   "source": [
    "ls -l"
   ]
  },
  {
   "cell_type": "markdown",
   "metadata": {},
   "source": [
    "Crando carpeta llamada \"CursoTerminal\", creando estructura de carpetas\n",
    "Ejecicios\n",
    "    Ejercicio01\n",
    "    Ejercicio02\n",
    "Proyectos\n",
    "    Proyectos01\n",
    "    Proyectos02\n",
    "y por ultimo entrando a carpeta Ejercicios/Ejercicio02"
   ]
  },
  {
   "cell_type": "code",
   "execution_count": null,
   "metadata": {
    "vscode": {
     "languageId": "plaintext"
    }
   },
   "outputs": [],
   "source": [
    "mkdir CursoTerminal\n",
    "cd CursoTerminal\n",
    "mkdir Ejercicios\n",
    "mkdir Ejercicios/Ejercicio01\n",
    "mkdir Ejercicios/Ejercicio02\n",
    "mkdir Proyectos\n",
    "mkdir Proyectos/Proyecto01\n",
    "mkdir Proyectos/Proyecto02\n",
    "cd Ejercicios/Ejercicio02\n"
   ]
  },
  {
   "cell_type": "markdown",
   "metadata": {},
   "source": [
    "Creando archivo\n",
    "touch datos.txt\n",
    "\n",
    "Guardar Texto en archivo:\n",
    "echo Primera línea de texto > datos.txt\n",
    "\n",
    "Leer archivo en terminal\n",
    "cat datos.txt\n",
    "\n",
    "Agregando mas lineas y mostrando lo guardado\n",
    "echo Segunda línea de texto >> datos.txt\n",
    "echo Tercera línea de texto >> datos.txt\n",
    "cat datos.txt\n",
    "\n",
    "Haciendo copia de archivo\n",
    "cp datos.txt datos.1.txt\n",
    "\n",
    "Renombrando un archivo:\n",
    "cp datos.txt datos.1 #Una copia erronea\n",
    "mv datos.1 datos.2.txt"
   ]
  },
  {
   "cell_type": "markdown",
   "metadata": {},
   "source": [
    "Ejercicio 02 Microlearning 1"
   ]
  },
  {
   "cell_type": "code",
   "execution_count": null,
   "metadata": {
    "vscode": {
     "languageId": "plaintext"
    }
   },
   "outputs": [],
   "source": [
    "touch terminal-chuleta.txt\n",
    "echo pwd Muestra el nombre de la carpeta de trabajo actual. >>terminal-chuleta.txt\n",
    "echo mkdir Crear una nueva carpeta >>terminal-chuleta.txt\n",
    "echo cd Cambia a una nueva carpeta >>terminal-chuleta.txt\n",
    "echo cd .. Regresa a la carpeta anterior >>terminal-chuleta.txt\n",
    "echo rmdir elimina una carpeta vacía >>terminal-chuleta.txt\n",
    "cat terminal-chuleta.txt\n",
    "cp terminal-chuleta.txt terminal-chuleta-1.txt"
   ]
  },
  {
   "cell_type": "markdown",
   "metadata": {},
   "source": [
    "Imprime el contenido de los dos archivos usando el comando cat.\n",
    "Observa que el contenido de los dos archivos se muestra de\n",
    "forma consecutiva, así que esta es una manera de juntar o\n",
    "concatenar dos archivos. Usa el símbolo > para crear el archivo\n",
    "todo.txt con el contenido de ambos archivos."
   ]
  },
  {
   "cell_type": "code",
   "execution_count": null,
   "metadata": {
    "vscode": {
     "languageId": "plaintext"
    }
   },
   "outputs": [],
   "source": [
    "cat terminal-chuleta.txt terminal-chuleta-1.txt\n",
    "touch todo.txt\n",
    "cat terminal-chuleta.txt terminal-chuleta-1.txt > todo.txt\n",
    "cat todo.txt\n",
    "rm todo.txt"
   ]
  },
  {
   "cell_type": "markdown",
   "metadata": {},
   "source": [
    "Microlearning 2\n",
    "Cambiando de carpeta de trabajo\n",
    "cd C:/Users/Edgar/Documents/GitHub/Bedu-Fase0-1/TerminalLinux/\n",
    "mkdir Leccion2\n",
    "cd Leccion2\n",
    "Automatizacion de tareas\n",
    "Descargar archivos\n",
    "curl -O http://files.grouplens.org/datasets/movielens/ml-1m-README.txt\n",
    "curl -O http://files.grouplens.org/datasets/movielens/ml-1m.zip\n",
    "Observando contenido del archivo:\n",
    "cat ml-1m-README.txt\n",
    "less cat ml-1m-README.txt\n",
    "\n",
    "Comando less\n",
    "ENTER:\n",
    "Avanza una línea en el contenido\n",
    "ESPACIO:\n",
    "Avanza una página completa en el contenido\n",
    "B:\n",
    "Regresa media página en el contenido\n",
    "Q:\n",
    "Salir\n",
    "\n",
    "Automatizar tareas (Creando Scripts)\n",
    "nano datos-ml-Im-readme.sh\n",
    "\n",
    "\n",
    "Uso editores dentro de terminal\n",
    "Para guardar contenido se usa ctrl + 0\n",
    "enter para guardar y salir\n",
    "ctrl + x para salir\n",
    "\n",
    "Para ejecutar el script se usa...\n",
    "bash datos-ml-Im-readme.hs"
   ]
  },
  {
   "cell_type": "markdown",
   "metadata": {},
   "source": [
    "Microlearning 3 y 4\n",
    "Identificar contenido en archivos\n",
    "\n",
    "head muestra solo 10 lineas\n",
    "head users.dat\n",
    "\n",
    "mostrar n lineas\n",
    "head -n users.dat\n",
    "less README\n",
    "\n",
    "Obteniendo ultimas lineas del archivo\n",
    "tail users.dat\n",
    "\n",
    "reemplazando domando :: por , “s/origen/reemplazo/g” la s significa search y la g significa reemplazar\n",
    "sed \"s/::/,/g\" users.dat>users.csv\n",
    "\n",
    "Contando cantidad de registros en cada archivo, La primera columna indica el total de líneas en cada archivo, la segunda el total de palabras y la tercera es la cantidad de bytes en el archivo.\n",
    "\n",
    "wc users.dat users.csv\n",
    "\n",
    "Incluyendo encabezado\n",
    "echo id,genero,edad,ocup,cp | cat - users.csv>users-h.csv\n",
    "head -n 3 users-h.csv\n",
    "\n",
    "Microlearning 4\n",
    "Comandos para realizar consultas de datos\n",
    "grep M users.csv\n",
    "\n",
    "grep M users.csv | wc\n",
    "grep M users.csv | grep 15\n",
    "grep M users.csv | grep ,15,\n",
    "\n",
    "Filtrando grupo de mujeres \"M\" y 15\n",
    "grep M users.csv | grep ,15,| wc\n",
    "\n",
    "Contando cantidad de registros en cada archivo\n",
    "wc users.dat users.csv\n",
    "\n",
    "Guardando filtrado en otro archivo\n",
    "grep M users.csv | grep ,15, > users-gM-o15.csv\n"
   ]
  },
  {
   "cell_type": "markdown",
   "metadata": {},
   "source": [
    "Ejercicio 05 Comandos para preparar y contar conjuntos de datos\n",
    "Abre una terminal.\n",
    "Crear la carpeta Ejercicio05 y muévete a ella.\n",
    "    Moverse al directorio anterior\n",
    "    cd -\n",
    "\n",
    "    Moverse a directorio arriba\n",
    "    cd ..\n",
    "    \n",
    "    Creando directorio\n",
    "    mkdir Ejercicio05\n",
    "\n",
    "Copia la carpeta Datos creada en el Ejemplo05 y muévete a la carpeta Datos/ml-1m/.\n",
    "    Copiando carpeta\n",
    "    cp -r Leccion3/ Ejercicio05/\n",
    "\n",
    "    ubicandose en la carpeta nueva\n",
    "    cd Ejercicio05\n",
    "    \n",
    "Convertir el archivo movies.dat al archivo movies.csv y movies-h.csv sin y con encabezado respectivamente.\n",
    "    \n",
    "    Creando archivo y Cambiando :: por ,\n",
    "    sed \"s/::/,/g\" movies.dat>movies.csv\n",
    "\n",
    "    Añadiendo encabezado a movies.csv\n",
    "    echo id,pelicula,genero | cat - movies.csv>movies-h.csv\n",
    "    \n",
    "    \n",
    "Convertir el archivo ratings.dat al archivo ratings.csv y ratings-h.csv sin y con encabezado respectivamente.\n",
    "\n",
    "    Observando contenido del archivo:\n",
    "    cat README\n",
    "    head ratings.dat\n",
    "    \n",
    "    Creando archivo y Cambiando :: por ,\n",
    "    sed \"s/::/,/g\" ratings.dat>ratings.csv    \n",
    "    \n",
    "    Añadiendo encabezado a ratings.csv\n",
    "    UserID::MovieID::Rating::Timestamp\n",
    "    echo id,MovieID,Rating,Timestamp | cat - ratings.csv>ratings-h.csv\n",
    "    "
   ]
  },
  {
   "cell_type": "markdown",
   "metadata": {},
   "source": [
    "Ejercicio 06"
   ]
  }
 ],
 "metadata": {
  "language_info": {
   "name": "python"
  },
  "orig_nbformat": 4
 },
 "nbformat": 4,
 "nbformat_minor": 2
}
